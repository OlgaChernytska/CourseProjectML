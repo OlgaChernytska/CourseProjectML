{
 "cells": [
  {
   "cell_type": "markdown",
   "metadata": {},
   "source": [
    "# Course Project\n",
    "Author: Olga Chernytska\n",
    " \n",
    "## Part 3. Demonstration"
   ]
  },
  {
   "cell_type": "code",
   "execution_count": 1,
   "metadata": {},
   "outputs": [],
   "source": [
    "import pandas as pd\n",
    "import numpy as np\n",
    "import matplotlib.pyplot as plt\n",
    "from sklearn.externals import joblib"
   ]
  },
  {
   "cell_type": "markdown",
   "metadata": {},
   "source": [
    "Input: direction 0/1, point [lat,lon] on the route, time - randomly generated\n",
    "\n",
    "Output: dataframe with columns 'stop #' and 'time to arrival'. Data frame contains next 5 stops that bus is going to pass moving to end point stop."
   ]
  },
  {
   "cell_type": "markdown",
   "metadata": {},
   "source": [
    "#### Step 1. Define helper functions"
   ]
  },
  {
   "cell_type": "markdown",
   "metadata": {},
   "source": [
    "- Input generation and preprocessing"
   ]
  },
  {
   "cell_type": "code",
   "execution_count": 2,
   "metadata": {},
   "outputs": [],
   "source": [
    "def dist_fast(point1, point2):\n",
    "    dist = (point1[0]-point2[0])**2 + (point1[1]-point2[1])**2\n",
    "    return dist\n",
    "\n",
    "\n",
    "def add_route_points(df_route_points, direction):\n",
    "    df = df_route_points.copy()\n",
    "    df = df[df['direction']==direction]\n",
    "    df = df.reset_index(drop = True)\n",
    "    \n",
    "    max_counter = len(df)\n",
    "    i = 0\n",
    "    while (i < max_counter):\n",
    "        dist = dist_fast([df.at[i,'lat'], df.at[i,'lon']], [df.at[i+1,'lat'], df.at[i+1,'lon']])\n",
    "        \n",
    "        if np.sqrt(dist)*100000 > 30:\n",
    "            new_lat = (df.at[i,'lat'] + df.at[i+1,'lat'])/2\n",
    "            new_lon = (df.at[i,'lon'] + df.at[i+1,'lon'])/2\n",
    "            new = pd.DataFrame({'lat': new_lat, 'lon': new_lon, 'direction': direction}, index=[0])\n",
    "            df = pd.concat([df.iloc[:(i+1)], new, df.iloc[(i+1):]])\n",
    "            df = df.reset_index(drop = True)\n",
    "            max_counter = len(df) - 1\n",
    "        else:\n",
    "            i += 1\n",
    "            \n",
    "    return df"
   ]
  },
  {
   "cell_type": "code",
   "execution_count": 3,
   "metadata": {},
   "outputs": [],
   "source": [
    "def input_generator(df):\n",
    "    direction = np.random.randint(low=0,high=2)\n",
    "    random_index = np.random.choice(df_route_points[df_route_points['direction']==direction].index)\n",
    "    route_point = [df_route_points.at[random_index,'lat'], \n",
    "                 df_route_points.at[random_index,'lon']]\n",
    "    time = np.random.choice(df['start_time'])\n",
    "    return time, direction, route_point"
   ]
  },
  {
   "cell_type": "code",
   "execution_count": 4,
   "metadata": {},
   "outputs": [],
   "source": [
    "def add_features(df):\n",
    "    df['season'] = np.where(df['start_time'].dt.month.isin([12,1,2]), 'winter',\n",
    "                             np.where(df['start_time'].dt.month.isin([3,4,5]), 'spring',\n",
    "                             np.where(df['start_time'].dt.month.isin([6,7,8]), 'summer', 'autumn')))\n",
    "    df['weekday'] = df['start_time'].dt.weekday_name\n",
    "    df['hour'] = df['start_time'].dt.hour\n",
    "    df['minute'] = (round(df['start_time'].dt.minute/15,0)*15 % 60).astype(int)\n",
    "    df['route_interval'] = df['start_stop'].str.extract('(#\\d*)', expand = False) + '_' \\\n",
    "                        + df['end_stop'].str.extract('(#\\d*)', expand = False)\n",
    "    return df"
   ]
  },
  {
   "cell_type": "code",
   "execution_count": 5,
   "metadata": {},
   "outputs": [],
   "source": [
    "def closest_stop(df_route_points, df_route_stops, direction):\n",
    "    df = df_route_points.copy()\n",
    "    df = df[df['direction']== direction]\n",
    "    df['closest_stop'] = 'none'\n",
    "    df = df.reset_index(drop=True)\n",
    "    \n",
    "    direction_stops = df_route_stops[df_route_stops['direction']==direction]\n",
    "    direction_stops = direction_stops.reset_index(drop=True)\n",
    "    \n",
    "    num_stop = 0\n",
    "    prev_dist = 50000\n",
    "    \n",
    "    num_points = len(df)\n",
    "    n_stops = len(direction_stops)\n",
    "\n",
    "    for i in range(num_points):\n",
    "        \n",
    "        if num_stop != n_stops - 1:\n",
    "        \n",
    "            this_dist = dist_fast([direction_stops.at[num_stop, 'lat'], direction_stops.at[num_stop, 'lon']],\n",
    "                             [df.at[i, 'lat'], df.at[i, 'lon']])\n",
    "        \n",
    "            if this_dist >= prev_dist:\n",
    "                df.at[i-1,'closest_stop'] = 'stop #' + str(num_stop).zfill(2) + \\\n",
    "                        ': id=' + str(direction_stops.at[num_stop, 'stop_id'])\n",
    "                    \n",
    "                prev_dist = 50000\n",
    "                num_stop += 1\n",
    "                                  \n",
    "            else:\n",
    "                prev_dist = this_dist\n",
    "            \n",
    "        else:\n",
    "            df.at[num_points-1,'closest_stop'] = 'stop #' + str(num_stop).zfill(2) + \\\n",
    "                    ': id=' + str(direction_stops.at[num_stop, 'stop_id'])\n",
    "                \n",
    "        \n",
    "    return df"
   ]
  },
  {
   "cell_type": "code",
   "execution_count": 6,
   "metadata": {},
   "outputs": [],
   "source": [
    "def max_stop_distance(route_direction):\n",
    "    df = route_direction.copy()\n",
    "    df = df[df['closest_stop'] != 'none']\n",
    "    df = df.reset_index(drop = True)\n",
    "    \n",
    "    max_dist = -1\n",
    "    for i in range(len(df)-1):\n",
    "        point1 = [df.at[i,'lat'], df.at[i,'lon']]\n",
    "        point2 = [df.at[i+1,'lat'], df.at[i+1,'lon']]\n",
    "        this_dist = dist_fast(point1, point2)\n",
    "        if this_dist > max_dist:\n",
    "            max_dist = this_dist\n",
    "            \n",
    "    return max_dist"
   ]
  },
  {
   "cell_type": "code",
   "execution_count": 7,
   "metadata": {},
   "outputs": [],
   "source": [
    "def find_route_location(route_point, direction):\n",
    "    if direction == 0:\n",
    "        df = route_direction0\n",
    "        max_dist = max_dist_direction0\n",
    "    else:\n",
    "        df = route_direction1\n",
    "        max_dist = max_dist_direction1\n",
    "        \n",
    "    prev_dist = 5000\n",
    "    counter = 0\n",
    "    \n",
    "    #find closest index\n",
    "    index = len(df)-1\n",
    "    for i in range(len(df)):\n",
    "        this_dist = dist_fast([df.at[i, 'lat'], df.at[i, 'lon']], route_point)\n",
    "        \n",
    "        #print(str(i) + ' ' + str(this_dist) + ' ' + str(this_dist < prev_dist) + ' '  + str(counter))\n",
    "        \n",
    "        if this_dist > prev_dist and this_dist < max_dist*1.05:\n",
    "            \n",
    "            if counter == 50 or i==len(df)-1:\n",
    "                index = i-counter-1\n",
    "                #print(index)\n",
    "                break\n",
    "            else:\n",
    "                counter += 1\n",
    "            \n",
    "        else:\n",
    "            prev_dist = this_dist\n",
    "            counter = 0\n",
    "            \n",
    "    #find previous stop\n",
    "    prev_stop = ''\n",
    "    for i in range(index, -1, -1):\n",
    "        this_point = df.at[i, 'closest_stop']\n",
    "        if this_point == 'none':\n",
    "            continue\n",
    "        else:\n",
    "            prev_stop = this_point\n",
    "            break\n",
    "      \n",
    "    \n",
    "    #find next stop\n",
    "    next_stop = ''\n",
    "    for i in range(index, len(df)):\n",
    "        this_point = df.at[i, 'closest_stop']\n",
    "        if this_point == 'none':\n",
    "            continue\n",
    "        else:\n",
    "            next_stop = this_point\n",
    "            break\n",
    "            \n",
    "    return prev_stop, next_stop"
   ]
  },
  {
   "cell_type": "code",
   "execution_count": 8,
   "metadata": {},
   "outputs": [],
   "source": [
    "def get_stop_coordinates(stop_name):\n",
    "    stop_id = int(stop_name[(stop_name.find('=')+1):])\n",
    "    df = df_route_stops[df_route_stops['stop_id'] == stop_id]\n",
    "    lat = df[['lat']].iloc[0,0]\n",
    "    lon = df[['lon']].iloc[0,0]\n",
    "    return [lat, lon]\n",
    "    \n",
    "def interval_passed(route_point, prev_stop, next_stop):\n",
    "    \n",
    "    if prev_stop == next_stop:\n",
    "        return 1\n",
    "    \n",
    "    \n",
    "    prev_stop_coord = get_stop_coordinates(prev_stop)\n",
    "    next_stop_coord = get_stop_coordinates(next_stop)\n",
    "    \n",
    "    dist_to_prev = np.sqrt(dist_fast(route_point, prev_stop_coord))\n",
    "    dist_to_next = np.sqrt(dist_fast(route_point, next_stop_coord))\n",
    "    \n",
    "    passed = dist_to_prev/(dist_to_prev + dist_to_next)\n",
    "    return passed"
   ]
  },
  {
   "cell_type": "code",
   "execution_count": 9,
   "metadata": {},
   "outputs": [],
   "source": [
    "def find_next_stops(next_stop, direction):\n",
    "    if direction == 0:\n",
    "        df = route_direction0\n",
    "    else:\n",
    "        df = route_direction1\n",
    "    \n",
    "    df = df[df['closest_stop'] != 'none']\n",
    "    df = df.reset_index(drop = True)\n",
    "    index = df[df['closest_stop'] == next_stop].index[0]\n",
    "    df = df[index:]\n",
    "    df = df.iloc[:5]\n",
    "    \n",
    "    return np.array(df['closest_stop'])"
   ]
  },
  {
   "cell_type": "markdown",
   "metadata": {},
   "source": [
    "- Predictions"
   ]
  },
  {
   "cell_type": "code",
   "execution_count": 10,
   "metadata": {},
   "outputs": [],
   "source": [
    "def prepare_data_for_prediting(time, direction, prev_stop, next_stop, true_columns):\n",
    "    \n",
    "    df = pd.DataFrame({'start_time': time, 'direction': direction, \n",
    "                      'start_stop': prev_stop, 'end_stop': next_stop}, index = [0])\n",
    "    df = add_features(df)\n",
    "    \n",
    "    dummies_direction = pd.get_dummies(df['direction'], prefix = 'is_direction')\n",
    "    dummies_route_stops = pd.get_dummies(df['route_interval'],  prefix = 'is_stops')\n",
    "\n",
    "    dummies_season = pd.get_dummies(df['season'], prefix='is')\n",
    "    dummies_weekday = pd.get_dummies(df['weekday'],  prefix = 'is')\n",
    "    dummies_hour = pd.get_dummies(df['hour'], prefix = 'is_hour')\n",
    "    dummies_minute = pd.get_dummies(df['minute'], prefix = 'is_minute')\n",
    "    \n",
    "    df_new = dummies_direction.join([dummies_route_stops, dummies_season, dummies_weekday, \n",
    "                                   dummies_hour, dummies_minute] )\n",
    "       \n",
    "    missing_columns = set(true_columns) - set(df_new.columns)    \n",
    "    for c in missing_columns:\n",
    "        df_new[c] = 0\n",
    "    \n",
    "    df_new = df_new[true_columns]\n",
    "    \n",
    "    return df_new"
   ]
  },
  {
   "cell_type": "code",
   "execution_count": 11,
   "metadata": {},
   "outputs": [],
   "source": [
    "def predict_next_5(model, true_columns, time, direction, prev_stop, next_stop, passed, next_stops):\n",
    "    \n",
    "    predictions = []\n",
    "    \n",
    "    if prev_stop == next_stop:\n",
    "        time_to_stop = 0\n",
    "    else:\n",
    "        new_obs = prepare_data_for_prediting(time, direction, prev_stop, next_stop, true_columns)\n",
    "        time_to_stop = model.predict(new_obs)[0]\n",
    "        time_to_stop = time_to_stop * (1-passed)\n",
    "        arrival_time = time + pd.Timedelta(seconds = time_to_stop)\n",
    "        predictions.append([time, next_stop, time_to_stop, arrival_time])\n",
    "    \n",
    "    n_pred = len(next_stops) - 1\n",
    "    \n",
    "    if n_pred > 0:\n",
    "        for i in range(1, len(next_stops)):\n",
    "            prev_stop = next_stops[i-1]\n",
    "            next_stop = next_stops[i]\n",
    "            time += pd.Timedelta(seconds = time_to_stop)\n",
    "            new_obs = prepare_data_for_prediting(time, direction, prev_stop, next_stop, true_columns)\n",
    "            time_to_stop = model.predict(new_obs)[0]\n",
    "            arrival_time = time + pd.Timedelta(seconds = time_to_stop)\n",
    "            predictions.append([time, next_stop, time_to_stop, arrival_time])\n",
    "    \n",
    "    predictions = pd.DataFrame(predictions, columns = ['prev_stop_departure_time',\n",
    "                                                       'next_stop', 'time_between_stops', 'arrival_time'])\n",
    "    predictions['seconds_to_arrival'] = np.cumsum(predictions['time_between_stops'])\n",
    "    \n",
    "    \n",
    "    return predictions[['next_stop', 'seconds_to_arrival', 'arrival_time']]"
   ]
  },
  {
   "cell_type": "markdown",
   "metadata": {},
   "source": [
    "#### Step 2. Load model and datasets needed."
   ]
  },
  {
   "cell_type": "code",
   "execution_count": 12,
   "metadata": {},
   "outputs": [],
   "source": [
    "def load_data(direction):\n",
    "    df = pd.read_csv('output/direction'+str(direction) + '_df_clean.csv')\n",
    "    df = df[['drive_index','start_stop','end_stop','start_time','time_diff_seconds']]\n",
    "    df['start_time'] = pd.to_datetime(df['start_time'], unit='ns')\n",
    "    df['direction'] = direction\n",
    "    \n",
    "    return df\n",
    "\n",
    "direction0_df = load_data(0)\n",
    "direction1_df = load_data(1)\n",
    "\n",
    "df_all = pd.concat([direction0_df, direction1_df])\n",
    "df_all = df_all.reset_index(drop = True)"
   ]
  },
  {
   "cell_type": "code",
   "execution_count": 13,
   "metadata": {},
   "outputs": [],
   "source": [
    "df_route_points = pd.read_csv('./input/routeid1723724_route.csv')\n",
    "df_route_points = df_route_points.drop_duplicates()\n",
    "df_route_points['direction'] = 1 - df_route_points['dir']\n",
    "df_route_points = df_route_points[['lat','lon','direction']]\n",
    "df_route_points = df_route_points.reset_index(drop = True)\n",
    "\n",
    "df_route_stops = pd.read_csv('./input/routeid1723724_stops.csv')\n",
    "df_route_stops = df_route_stops[['lat','lon','stop_id','direction']]\n",
    "\n",
    "df_route_points = pd.concat([add_route_points(df_route_points, 0), add_route_points(df_route_points, 1)])\n",
    "df_route_points = df_route_points.reset_index(drop = True)\n",
    "\n",
    "route_direction0 = closest_stop(df_route_points, df_route_stops, 0)\n",
    "route_direction1 = closest_stop(df_route_points, df_route_stops, 1)\n",
    "\n",
    "max_dist_direction0 = max_stop_distance(route_direction0)\n",
    "max_dist_direction1 = max_stop_distance(route_direction1)"
   ]
  },
  {
   "cell_type": "code",
   "execution_count": 14,
   "metadata": {},
   "outputs": [],
   "source": [
    "true_columns = ['is_direction_1', 'is_stops_#01_#02', 'is_stops_#02_#03',\n",
    "       'is_stops_#03_#04', 'is_stops_#04_#05', 'is_stops_#05_#06',\n",
    "       'is_stops_#06_#07', 'is_stops_#07_#08', 'is_stops_#08_#09',\n",
    "       'is_stops_#09_#10', 'is_stops_#10_#11', 'is_stops_#11_#12',\n",
    "       'is_stops_#12_#13', 'is_stops_#13_#14', 'is_stops_#14_#15',\n",
    "       'is_stops_#15_#16', 'is_stops_#16_#17', 'is_stops_#17_#18',\n",
    "       'is_stops_#18_#19', 'is_stops_#19_#20', 'is_stops_#20_#21',\n",
    "       'is_stops_#21_#22', 'is_stops_#22_#23', 'is_stops_#23_#24',\n",
    "       'is_stops_#24_#25', 'is_stops_#25_#26', 'is_stops_#26_#27',\n",
    "       'is_stops_#27_#28', 'is_spring', 'is_summer', 'is_winter', 'is_Monday',\n",
    "       'is_Saturday', 'is_Sunday', 'is_Thursday', 'is_Tuesday', 'is_Wednesday',\n",
    "       'is_hour_3', 'is_hour_4', 'is_hour_5', 'is_hour_6', 'is_hour_7',\n",
    "       'is_hour_8', 'is_hour_9', 'is_hour_10', 'is_hour_11', 'is_hour_12',\n",
    "       'is_hour_13', 'is_hour_14', 'is_hour_15', 'is_hour_16', 'is_hour_17',\n",
    "       'is_hour_18', 'is_hour_19', 'is_minute_15', 'is_minute_30',\n",
    "       'is_minute_45']"
   ]
  },
  {
   "cell_type": "code",
   "execution_count": 15,
   "metadata": {},
   "outputs": [],
   "source": [
    "#load model\n",
    "model = joblib.load('model.pkl')"
   ]
  },
  {
   "cell_type": "markdown",
   "metadata": {},
   "source": [
    "#### Step 3. Demonstration"
   ]
  },
  {
   "cell_type": "code",
   "execution_count": 22,
   "metadata": {},
   "outputs": [
    {
     "name": "stdout",
     "output_type": "stream",
     "text": [
      "Time: 2017-09-26T04:36:37.060401750\n",
      "Direction: 1\n",
      "Bus Location: [49.82356652125, 24.03342645875]\n"
     ]
    },
    {
     "data": {
      "image/png": "[encoded data removed]",
      "text/plain": [
       "<Figure size 432x432 with 1 Axes>"
      ]
     },
     "metadata": {},
     "output_type": "display_data"
    },
    {
     "name": "stdout",
     "output_type": "stream",
     "text": [
      "\n",
      "Bus is departed from stop #13: id=39164 and passed share=0.23 of the interval to stop #14: id=36559.\n",
      "\n",
      "Next closest stops on the route: ['stop #14: id=36559' 'stop #15: id=36589' 'stop #16: id=36631'\n",
      " 'stop #17: id=36685' 'stop #18: id=36711']\n"
     ]
    },
    {
     "data": {
      "text/html": [
       "<div>\n",
       "<style scoped>\n",
       "    .dataframe tbody tr th:only-of-type {\n",
       "        vertical-align: middle;\n",
       "    }\n",
       "\n",
       "    .dataframe tbody tr th {\n",
       "        vertical-align: top;\n",
       "    }\n",
       "\n",
       "    .dataframe thead th {\n",
       "        text-align: right;\n",
       "    }\n",
       "</style>\n",
       "<table border=\"1\" class=\"dataframe\">\n",
       "  <thead>\n",
       "    <tr style=\"text-align: right;\">\n",
       "      <th></th>\n",
       "      <th>next_stop</th>\n",
       "      <th>seconds_to_arrival</th>\n",
       "      <th>arrival_time</th>\n",
       "    </tr>\n",
       "  </thead>\n",
       "  <tbody>\n",
       "    <tr>\n",
       "      <th>0</th>\n",
       "      <td>stop #14: id=36559</td>\n",
       "      <td>155.847378</td>\n",
       "      <td>2017-09-26 04:39:12.907779750</td>\n",
       "    </tr>\n",
       "    <tr>\n",
       "      <th>1</th>\n",
       "      <td>stop #15: id=36589</td>\n",
       "      <td>298.304957</td>\n",
       "      <td>2017-09-26 04:41:35.365358750</td>\n",
       "    </tr>\n",
       "    <tr>\n",
       "      <th>2</th>\n",
       "      <td>stop #16: id=36631</td>\n",
       "      <td>433.488589</td>\n",
       "      <td>2017-09-26 04:43:50.548990750</td>\n",
       "    </tr>\n",
       "    <tr>\n",
       "      <th>3</th>\n",
       "      <td>stop #17: id=36685</td>\n",
       "      <td>628.974608</td>\n",
       "      <td>2017-09-26 04:47:06.035010750</td>\n",
       "    </tr>\n",
       "    <tr>\n",
       "      <th>4</th>\n",
       "      <td>stop #18: id=36711</td>\n",
       "      <td>795.359942</td>\n",
       "      <td>2017-09-26 04:49:52.420344750</td>\n",
       "    </tr>\n",
       "  </tbody>\n",
       "</table>\n",
       "</div>"
      ],
      "text/plain": [
       "            next_stop  seconds_to_arrival                  arrival_time\n",
       "0  stop #14: id=36559          155.847378 2017-09-26 04:39:12.907779750\n",
       "1  stop #15: id=36589          298.304957 2017-09-26 04:41:35.365358750\n",
       "2  stop #16: id=36631          433.488589 2017-09-26 04:43:50.548990750\n",
       "3  stop #17: id=36685          628.974608 2017-09-26 04:47:06.035010750\n",
       "4  stop #18: id=36711          795.359942 2017-09-26 04:49:52.420344750"
      ]
     },
     "execution_count": 22,
     "metadata": {},
     "output_type": "execute_result"
    }
   ],
   "source": [
    "time, direction, route_point = input_generator(df_all)\n",
    "prev_stop, next_stop = find_route_location(route_point, direction)\n",
    "passed = interval_passed(route_point, prev_stop, next_stop)\n",
    "next_stops = find_next_stops(next_stop, direction)\n",
    "\n",
    "print('Time: ' + str(time))\n",
    "print('Direction: ' + str(direction))\n",
    "print('Bus Location: ' + str(route_point))\n",
    "\n",
    "stops = df_route_stops[df_route_stops['direction']==direction]\n",
    "route = df_route_points[df_route_points['direction']==direction]\n",
    "\n",
    "if direction ==0 :\n",
    "    title = 'Direction ' + str (direction) + ': Bus is moving DOWN'\n",
    "else:\n",
    "    title = 'Direction ' + str (direction) + ': Bus is moving UP'\n",
    "\n",
    "plt.figure(figsize = [6,6])\n",
    "plt.plot(route['lon'], route['lat'], color = '#D3D3D3',label = 'route')\n",
    "plt.plot(stops['lon'], stops['lat'], 'o', label = 'stops')\n",
    "plt.plot(route_point[1], route_point[0], 'D', label = 'bus')\n",
    "plt.legend()\n",
    "plt.title(title)\n",
    "plt.show()\n",
    "\n",
    "print('\\nBus is departed from ' + str(prev_stop) + ' and passed share=' +  \n",
    "        str(np.round(passed,2)) + ' of the interval to ' + str(next_stop) + '.')\n",
    "print('\\nNext closest stops on the route: ' + str(next_stops))\n",
    "\n",
    "predictions = predict_next_5(model, true_columns, time, direction, prev_stop, next_stop, passed, next_stops)\n",
    "predictions"
   ]
  }
 ],
 "metadata": {
  "kernelspec": {
   "display_name": "Python 3",
   "language": "python",
   "name": "python3"
  },
  "language_info": {
   "codemirror_mode": {
    "name": "ipython",
    "version": 3
   },
   "file_extension": ".py",
   "mimetype": "text/x-python",
   "name": "python",
   "nbconvert_exporter": "python",
   "pygments_lexer": "ipython3",
   "version": "3.6.4"
  }
 },
 "nbformat": 4,
 "nbformat_minor": 2
}
